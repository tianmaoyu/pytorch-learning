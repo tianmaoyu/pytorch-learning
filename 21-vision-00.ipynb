{
 "cells": [
  {
   "cell_type": "code",
   "execution_count": null,
   "metadata": {},
   "outputs": [],
   "source": []
  },
  {
   "cell_type": "code",
   "execution_count": null,
   "metadata": {},
   "outputs": [],
   "source": [
    "import matplotlib.pyplot as plt  \n",
    "import numpy as np  \n",
    "from IPython.display import display, update_display  \n",
    "import time  \n",
    "from tqdm.notebook import tqdm  \n",
    "  \n",
    "# 生成一些随机点  \n",
    "num_points = 10  \n",
    "x = np.random.rand(num_points)  \n",
    "y = np.random.rand(num_points)  \n",
    "  \n",
    "# 初始化图表  \n",
    "plt.ion()  # 打开交互模式  \n",
    "fig, ax = plt.subplots()  \n",
    "  \n",
    "# 初始化空图  \n",
    "line, = ax.plot([], [], 'o-', markersize=10)  \n",
    "line2, = ax.plot([], [], 'o-', markersize=10)  # 第二条线  \n",
    "  \n",
    "# 设置坐标轴范围  \n",
    "ax.set_xlim(0, 1)  \n",
    "ax.set_ylim(0, 1)  \n",
    "  \n",
    "# 显示初始图表  \n",
    "display_handle = display(fig, display_id=True)  \n",
    "  \n",
    "# 逐步添加点并更新图表  \n",
    "for i in tqdm(range(num_points), desc=\"test:\"):  \n",
    "    line.set_data(x[:i+1], y[:i+1])  \n",
    "    line2.set_data(x[:i+1] + 0.2, y[:i+1])  \n",
    "    ax.relim()  # 重新计算数据范围  \n",
    "    ax.autoscale_view()  # 自动缩放视图  \n",
    "    time.sleep(0.5)  # 暂停0.5秒以便观察  \n",
    "  \n",
    "# 关闭交互模式  \n",
    "plt.ioff()  \n"
   ]
  },
  {
   "cell_type": "code",
   "execution_count": 20,
   "metadata": {},
   "outputs": [
    {
     "data": {
      "application/vnd.jupyter.widget-view+json": {
       "model_id": "0558f7ee57e041ffa7fd4c3ca7040e91",
       "version_major": 2,
       "version_minor": 0
      },
      "text/plain": [
       "test::   0%|          | 0/10 [00:00<?, ?it/s]"
      ]
     },
     "metadata": {},
     "output_type": "display_data"
    },
    {
     "data": {
      "image/png": "[encoded data removed]",
      "text/plain": [
       "<Figure size 640x480 with 1 Axes>"
      ]
     },
     "metadata": {},
     "output_type": "display_data"
    }
   ],
   "source": [
    "import matplotlib.pyplot as plt\n",
    "import numpy as np\n",
    "from IPython.display import display, clear_output\n",
    "from tqdm.notebook import tqdm\n",
    "\n",
    "# 生成一些随机点\n",
    "num_points = 10\n",
    "x = np.random.rand(num_points)\n",
    "y = np.random.rand(num_points)\n",
    "\n",
    "# 初始化图表\n",
    "plt.ion()  # 打开交互模式\n",
    "fig, ax = plt.subplots()\n",
    "\n",
    "# 初始化空图\n",
    "line, = ax.plot([], [], 'o-', markersize=10)\n",
    "line2, = ax.plot([], [], 'o-', markersize=10)  # 第二条线\n",
    "\n",
    "# 设置坐标轴范围\n",
    "ax.set_xlim(0, 1)\n",
    "ax.set_ylim(0, 1)\n",
    "\n",
    "# 创建一个 tqdm 进度条\n",
    "pbar = tqdm(range(num_points), desc=\"test:\")\n",
    "\n",
    "# 逐步添加点并更新图表\n",
    "for i in pbar:\n",
    "    line.set_data(x[:i+1], y[:i+1])\n",
    "    line2.set_data(x[:i+1] + 0.2, y[:i+1])\n",
    "    ax.relim()  # 重新计算数据范围\n",
    "    ax.autoscale_view(True,True,True)  # 自动缩放视图\n",
    "    fig.canvas.draw()  # 强制重绘\n",
    "    fig.canvas.flush_events()  # 刷新事件\n",
    "    plt.pause(0.001)  # 让图形窗口刷新\n",
    "    time.sleep(0.5)  # 暂停0.5秒以便观察\n",
    "\n",
    "# 关闭交互模式\n",
    "plt.ioff()\n",
    "# 完成后关闭进度条\n",
    "pbar.close()"
   ]
  }
 ],
 "metadata": {
  "kernelspec": {
   "display_name": "pytorch",
   "language": "python",
   "name": "python3"
  },
  "language_info": {
   "codemirror_mode": {
    "name": "ipython",
    "version": 3
   },
   "file_extension": ".py",
   "mimetype": "text/x-python",
   "name": "python",
   "nbconvert_exporter": "python",
   "pygments_lexer": "ipython3",
   "version": "3.11.9"
  }
 },
 "nbformat": 4,
 "nbformat_minor": 2
}
